{
 "cells": [
  {
   "cell_type": "markdown",
   "metadata": {},
   "source": [
    "# Coral Reef Dataset Exploration\n",
    "This notebook explores the CoralConditionDataset (https://github.com/XL-SHAO/CoralConditionDataset), a patch-labeled dataset for coral health monitoring. Unlike the pixel-level annotations in our previous dataset, this one provides image patches with condition-based labels (e.g. \"Healthy coral\", \"Disease\").\n",
    "\n",
    "Some questions the exploration aims to answer are:\n",
    "* What file formats are used for the data?\n",
    "* How are annotations stored and what fields do they include?\n",
    "* Do all images have the same size dimensions?\n",
    "* What are the color channels?\n",
    "* What is the label distribution? \n",
    "* Is the dataset balanced? If not, how severe is the imbalance?\n",
    "* Are there ambiguous labels?\n",
    "* How many annotations exist per image?\n",
    "* Are there images with no annotations?\n",
    "* Is the dataset suitable for developing an AI system for coral monitoring?"
   ]
  },
  {
   "cell_type": "code",
   "execution_count": 12,
   "metadata": {},
   "outputs": [],
   "source": [
    "# Correct working directory.\n",
    "# This is necessary for imports because the notebook is not in the main folder of the project.\n",
    "# Correct working directory.\n",
    "# This is necessary for imports because the notebook is not in the main folder of the project.\n",
    "if not \"working_directory_corrected\" in vars():\n",
    "    %cd ..\n",
    "    working_directory_corrected = True\n",
    "\n",
    "# Import dependencies\n",
    "import os\n",
    "import pandas as pd\n",
    "import numpy as np\n",
    "import matplotlib.pyplot as plt\n",
    "import seaborn as sns\n",
    "from sklearn.preprocessing import MultiLabelBinarizer\n",
    "\n",
    "from data.coral_condition_dataset import CoralConditionDataset"
   ]
  },
  {
   "cell_type": "markdown",
   "metadata": {},
   "source": [
    "## 1. Dataset Initialization and Basic Properties\n",
    "The dataset consists of three parts:\n",
    "1) A CSV file containing the image patch id and its corresponding classification label id(s).\n",
    "2) A CSV file containing the set of possible labels that can be assigned to the objects within the images with their label ids.\n",
    "3) A folder containing underwater patch images of coral reefs."
   ]
  },
  {
   "cell_type": "code",
   "execution_count": 13,
   "metadata": {},
   "outputs": [
    {
     "name": "stdout",
     "output_type": "stream",
     "text": [
      "Total images in images folder: 25546\n",
      "Total annotated images: 23935\n",
      "Total possible labels: 9\n",
      "Total annotations: 23965\n",
      "Annotation columns: ['patchid', 'label']\n"
     ]
    },
    {
     "data": {
      "text/html": [
       "<div>\n",
       "<style scoped>\n",
       "    .dataframe tbody tr th:only-of-type {\n",
       "        vertical-align: middle;\n",
       "    }\n",
       "\n",
       "    .dataframe tbody tr th {\n",
       "        vertical-align: top;\n",
       "    }\n",
       "\n",
       "    .dataframe thead th {\n",
       "        text-align: right;\n",
       "    }\n",
       "</style>\n",
       "<table border=\"1\" class=\"dataframe\">\n",
       "  <thead>\n",
       "    <tr style=\"text-align: right;\">\n",
       "      <th></th>\n",
       "      <th>label</th>\n",
       "      <th>label_name</th>\n",
       "    </tr>\n",
       "  </thead>\n",
       "  <tbody>\n",
       "    <tr>\n",
       "      <th>0</th>\n",
       "      <td>0</td>\n",
       "      <td>Background</td>\n",
       "    </tr>\n",
       "    <tr>\n",
       "      <th>1</th>\n",
       "      <td>1</td>\n",
       "      <td>Healthy coral</td>\n",
       "    </tr>\n",
       "    <tr>\n",
       "      <th>2</th>\n",
       "      <td>2</td>\n",
       "      <td>Compromised coral</td>\n",
       "    </tr>\n",
       "    <tr>\n",
       "      <th>3</th>\n",
       "      <td>3</td>\n",
       "      <td>Dead coral</td>\n",
       "    </tr>\n",
       "    <tr>\n",
       "      <th>4</th>\n",
       "      <td>4</td>\n",
       "      <td>Rubble</td>\n",
       "    </tr>\n",
       "    <tr>\n",
       "      <th>5</th>\n",
       "      <td>5</td>\n",
       "      <td>Competition</td>\n",
       "    </tr>\n",
       "    <tr>\n",
       "      <th>6</th>\n",
       "      <td>6</td>\n",
       "      <td>Disease</td>\n",
       "    </tr>\n",
       "    <tr>\n",
       "      <th>7</th>\n",
       "      <td>7</td>\n",
       "      <td>Predation</td>\n",
       "    </tr>\n",
       "    <tr>\n",
       "      <th>8</th>\n",
       "      <td>8</td>\n",
       "      <td>Physical issues</td>\n",
       "    </tr>\n",
       "  </tbody>\n",
       "</table>\n",
       "</div>"
      ],
      "text/plain": [
       "   label         label_name\n",
       "0      0         Background\n",
       "1      1      Healthy coral\n",
       "2      2  Compromised coral\n",
       "3      3         Dead coral\n",
       "4      4             Rubble\n",
       "5      5        Competition\n",
       "6      6            Disease\n",
       "7      7          Predation\n",
       "8      8    Physical issues"
      ]
     },
     "metadata": {},
     "output_type": "display_data"
    },
    {
     "data": {
      "text/html": [
       "<div>\n",
       "<style scoped>\n",
       "    .dataframe tbody tr th:only-of-type {\n",
       "        vertical-align: middle;\n",
       "    }\n",
       "\n",
       "    .dataframe tbody tr th {\n",
       "        vertical-align: top;\n",
       "    }\n",
       "\n",
       "    .dataframe thead th {\n",
       "        text-align: right;\n",
       "    }\n",
       "</style>\n",
       "<table border=\"1\" class=\"dataframe\">\n",
       "  <thead>\n",
       "    <tr style=\"text-align: right;\">\n",
       "      <th></th>\n",
       "      <th>patchid</th>\n",
       "      <th>label</th>\n",
       "    </tr>\n",
       "  </thead>\n",
       "  <tbody>\n",
       "    <tr>\n",
       "      <th>0</th>\n",
       "      <td>CBK_0001_00_20230804_0001_1</td>\n",
       "      <td>0</td>\n",
       "    </tr>\n",
       "    <tr>\n",
       "      <th>1</th>\n",
       "      <td>CBK_0001_00_20230804_0001_2</td>\n",
       "      <td>0</td>\n",
       "    </tr>\n",
       "    <tr>\n",
       "      <th>2</th>\n",
       "      <td>CBK_0001_00_20230804_0001_3</td>\n",
       "      <td>0</td>\n",
       "    </tr>\n",
       "    <tr>\n",
       "      <th>3</th>\n",
       "      <td>CBK_0001_00_20230804_0001_4</td>\n",
       "      <td>0</td>\n",
       "    </tr>\n",
       "    <tr>\n",
       "      <th>4</th>\n",
       "      <td>CBK_0001_00_20230804_0001_5</td>\n",
       "      <td>0</td>\n",
       "    </tr>\n",
       "  </tbody>\n",
       "</table>\n",
       "</div>"
      ],
      "text/plain": [
       "                       patchid label\n",
       "0  CBK_0001_00_20230804_0001_1     0\n",
       "1  CBK_0001_00_20230804_0001_2     0\n",
       "2  CBK_0001_00_20230804_0001_3     0\n",
       "3  CBK_0001_00_20230804_0001_4     0\n",
       "4  CBK_0001_00_20230804_0001_5     0"
      ]
     },
     "execution_count": 13,
     "metadata": {},
     "output_type": "execute_result"
    }
   ],
   "source": [
    "# Initialize dataset\n",
    "dataset = CoralConditionDataset()\n",
    "annotations = dataset.ANNOTATIONS_PATH\n",
    "labelset = dataset.LABELSET_PATH\n",
    "images_dir = dataset.IMAGES_PATH\n",
    "\n",
    "# Images in directory\n",
    "image_files = [f for f in os.listdir(images_dir) if f.endswith(('.jpg', '.png'))]\n",
    "\n",
    "# Basic statistics\n",
    "print(f\"Total images in images folder: {len(image_files)}\")\n",
    "print(f\"Total annotated images: {annotations['patchid'].nunique()}\")\n",
    "print(f\"Total possible labels: {len(labelset)}\")\n",
    "print(f\"Total annotations: {len(annotations)}\")\n",
    "print(f\"Annotation columns: {list(annotations.columns)}\")\n",
    "\n",
    "# Display labelset\n",
    "display(labelset)\n",
    "# Display sample of annotations\n",
    "annotations.head()"
   ]
  },
  {
   "cell_type": "markdown",
   "metadata": {},
   "source": [
    "There are 25,546 images in the images folder, while we have 23,935 images recorded in the CSV file. This indicates we have images that have not been labeled and should probably be removed from the dataset during the preprocessing phase.\n",
    "\n",
    "The labelset contains 9 possible classes. Four labels reflect the coral conditions: Healthy coral, Compromised coral, Dead coral, and Rubble; and four labels reflect stressors: Competition, Disease, Predation, and Physical issues. The last label is Background. There are no ambigious labels that we need to decipher.\n",
    "\n",
    "The annotations CSV file contains 23,935 entries (one for each patch image) and records these features:\n",
    "- **patchid**: Filename of the corresponding coral patch image.\n",
    "- **label**: Label id referring to the labelset CSV file."
   ]
  },
  {
   "cell_type": "markdown",
   "metadata": {},
   "source": [
    "Since there are images that have not been labeled, we will also explore if all labeled images do in fact exist in the images folder."
   ]
  },
  {
   "cell_type": "code",
   "execution_count": 14,
   "metadata": {},
   "outputs": [
    {
     "name": "stdout",
     "output_type": "stream",
     "text": [
      "11 missing images (sample): ['AOM_0032_00_20230929_0003_0', 'HNM_0031_00_20230928_0069_0', 'HNM_0031_00_20230928_0070_0', 'HNM_0031_00_20230928_0071_0', 'HNM_0031_00_20230928_0095_0']\n",
      "\n",
      "Full list saved to 'missing_images.txt'.\n"
     ]
    }
   ],
   "source": [
    "# Check if all annotated patches have corresponding image files\n",
    "existing_images = {os.path.splitext(f)[0] for f in os.listdir(images_dir)}\n",
    "missing_images = []\n",
    "for patch_id in annotations[\"patchid\"].unique():\n",
    "    if patch_id not in existing_images:\n",
    "        missing_images.append(patch_id)\n",
    "\n",
    "# Report results\n",
    "if not missing_images:\n",
    "    print(\"All annotations have corresponding images.\")\n",
    "else:\n",
    "    print(f\"{len(missing_images)} missing images (sample): {missing_images[:5]}\")\n",
    "    print(\"\\nFull list saved to 'missing_images.txt'.\")\n",
    "    with open(\"missing_images.txt\", \"w\") as f:\n",
    "        f.write(\"\\n\".join(missing_images))"
   ]
  },
  {
   "cell_type": "markdown",
   "metadata": {},
   "source": [
    "After exploring the data integrity we observe that we have 1,611 unannotated images (25,546 - 23,935) and 11 missing images (have annotations but do not exist in the images directory)."
   ]
  },
  {
   "cell_type": "markdown",
   "metadata": {},
   "source": [
    "Next, we will explore if each image patch receives only one label or can receive multiple labels."
   ]
  },
  {
   "cell_type": "code",
   "execution_count": 15,
   "metadata": {},
   "outputs": [
    {
     "name": "stdout",
     "output_type": "stream",
     "text": [
      "Single-label patches: 9677\n",
      "Multi-label patches: 14288\n"
     ]
    },
    {
     "data": {
      "text/html": [
       "<div>\n",
       "<style scoped>\n",
       "    .dataframe tbody tr th:only-of-type {\n",
       "        vertical-align: middle;\n",
       "    }\n",
       "\n",
       "    .dataframe tbody tr th {\n",
       "        vertical-align: top;\n",
       "    }\n",
       "\n",
       "    .dataframe thead th {\n",
       "        text-align: right;\n",
       "    }\n",
       "</style>\n",
       "<table border=\"1\" class=\"dataframe\">\n",
       "  <thead>\n",
       "    <tr style=\"text-align: right;\">\n",
       "      <th></th>\n",
       "      <th>patchid</th>\n",
       "      <th>label</th>\n",
       "      <th>is_multi</th>\n",
       "    </tr>\n",
       "  </thead>\n",
       "  <tbody>\n",
       "    <tr>\n",
       "      <th>71</th>\n",
       "      <td>CBK_0001_00_20230804_0003_2</td>\n",
       "      <td>1,3</td>\n",
       "      <td>True</td>\n",
       "    </tr>\n",
       "    <tr>\n",
       "      <th>72</th>\n",
       "      <td>CBK_0001_00_20230804_0003_3</td>\n",
       "      <td>1,3</td>\n",
       "      <td>True</td>\n",
       "    </tr>\n",
       "    <tr>\n",
       "      <th>74</th>\n",
       "      <td>CBK_0001_00_20230804_0003_5</td>\n",
       "      <td>1,3</td>\n",
       "      <td>True</td>\n",
       "    </tr>\n",
       "  </tbody>\n",
       "</table>\n",
       "</div>"
      ],
      "text/plain": [
       "                        patchid label  is_multi\n",
       "71  CBK_0001_00_20230804_0003_2   1,3      True\n",
       "72  CBK_0001_00_20230804_0003_3   1,3      True\n",
       "74  CBK_0001_00_20230804_0003_5   1,3      True"
      ]
     },
     "metadata": {},
     "output_type": "display_data"
    }
   ],
   "source": [
    "# Detect multi-label entries\n",
    "annotations['is_multi'] = annotations['label'].apply(lambda x: isinstance(x, str) and ',' in str(x))\n",
    "multi_label_count = annotations['is_multi'].sum()\n",
    "\n",
    "print(f\"Single-label patches: {len(annotations) - multi_label_count}\")\n",
    "print(f\"Multi-label patches: {multi_label_count}\")\n",
    "\n",
    "# Show examples of multi-label entries\n",
    "display(annotations[annotations['is_multi']].head(3))"
   ]
  },
  {
   "cell_type": "markdown",
   "metadata": {},
   "source": [
    "Since most images are labeled with more than class, it suggests this is a multi-label classification problem.\n",
    "\n",
    "The sample above showed patches with two labels each, but that might not be the case for all the patches. We'll explore how many labels images typically have. "
   ]
  },
  {
   "cell_type": "code",
   "execution_count": 16,
   "metadata": {},
   "outputs": [
    {
     "name": "stdout",
     "output_type": "stream",
     "text": [
      "Max labels per image: 7\n",
      "label_count\n",
      "1    9677\n",
      "2    8259\n",
      "3    4181\n",
      "4    1499\n",
      "5     322\n",
      "6      26\n",
      "7       1\n",
      "Name: count, dtype: int64\n"
     ]
    }
   ],
   "source": [
    "# First convert all labels to lists of integers\n",
    "annotations['label_list'] = annotations['label'].apply(\n",
    "    lambda x: [int(x)] if isinstance(x, int) else [int(l) for l in str(x).split(',')]\n",
    ")\n",
    "# Calculate number of labels per image\n",
    "annotations['label_count'] = annotations['label_list'].apply(len)\n",
    "label_counts = annotations['label_count'].value_counts().sort_index()\n",
    "\n",
    "print(f\"Max labels per image: {annotations['label_count'].max()}\")\n",
    "print(label_counts)"
   ]
  },
  {
   "cell_type": "markdown",
   "metadata": {},
   "source": [
    "While the majority of patches have 1-3 labels, the number of patches that have 4-7 labels is critical. The 7 labeled patch is an outlier. It makes sense for ecologically complex scenarios to exist, but we need to keep these labels in mind when training the model as it must be able to handle simple binary cases, but also more complex multi-label scenarios. "
   ]
  },
  {
   "cell_type": "markdown",
   "metadata": {},
   "source": [
    "Initial observations show: \n",
    "- There are images in the dataset that have not been annotated, and may need to be removed.\n",
    "- 11 images are annotated but are not present in the images dataset, and therefore their annotations may need to be removed. \n",
    "- Images in the annotation file are not duplicated (each image corresponds to one annotation row).\n",
    "- Images can be labeled with one or more classes (multi-label classification)."
   ]
  },
  {
   "cell_type": "markdown",
   "metadata": {},
   "source": [
    "## 2. Image Data Properties\n",
    "Before examining the label distribution, we should understand the properties of the image data. \n",
    "By manual inspection of the image data we can identify:\n",
    "* The images all have the same dimensions.\n",
    "* The images all have a .jpg format.\n",
    "\n",
    "We will confirm this below:"
   ]
  },
  {
   "cell_type": "code",
   "execution_count": 17,
   "metadata": {},
   "outputs": [
    {
     "name": "stdout",
     "output_type": "stream",
     "text": [
      "SKI_0004_00_20230817_0070_22: (512, 512, 3)\n",
      "HNM_0031_00_20230928_0043_9: (512, 512, 3)\n",
      "TCB_0003_00_20230816_0107_26: (512, 512, 3)\n",
      "TCB_0003_00_20230816_0106_20: (512, 512, 3)\n",
      "SKI_0004_00_20230817_0082_20: (512, 512, 3)\n",
      "CBK_0001_00_20230804_0071_13: (512, 512, 3)\n",
      "SKI_0004_00_20230817_0129_22: (512, 512, 3)\n",
      "HNM_0031_00_20230928_0007_9: (512, 512, 3)\n",
      "HNM_0031_00_20230928_0011_33: (512, 512, 3)\n",
      "ALK_0030_11_20230927_0007_7: (512, 512, 3)\n"
     ]
    }
   ],
   "source": [
    "# Get unique image names from annotations\n",
    "sampled_images = annotations['patchid'].sample(n=10, random_state=42)\n",
    "# Print image properties\n",
    "for img_name in sampled_images:\n",
    "    try: \n",
    "        img = dataset.get_image(img_name)\n",
    "        img_data = np.array(object=img)\n",
    "        print(f\"{img_name}:\", img_data.shape)\n",
    "    except Exception as err:\n",
    "        print(f\"Error processing {img_name}: {err}\")"
   ]
  },
  {
   "cell_type": "code",
   "execution_count": 18,
   "metadata": {},
   "outputs": [
    {
     "name": "stdout",
     "output_type": "stream",
     "text": [
      "Error checking AOM_0032_00_20230929_0003_0: [Errno 2] No such file or directory: 'data/coral_condition/images\\\\AOM_0032_00_20230929_0003_0.jpg'\n",
      "Error checking HNM_0031_00_20230928_0069_0: [Errno 2] No such file or directory: 'data/coral_condition/images\\\\HNM_0031_00_20230928_0069_0.jpg'\n",
      "Error checking HNM_0031_00_20230928_0070_0: [Errno 2] No such file or directory: 'data/coral_condition/images\\\\HNM_0031_00_20230928_0070_0.jpg'\n",
      "Error checking HNM_0031_00_20230928_0071_0: [Errno 2] No such file or directory: 'data/coral_condition/images\\\\HNM_0031_00_20230928_0071_0.jpg'\n",
      "Error checking HNM_0031_00_20230928_0095_0: [Errno 2] No such file or directory: 'data/coral_condition/images\\\\HNM_0031_00_20230928_0095_0.jpg'\n",
      "Error checking ALK_0030_11_20230927_0019_0: [Errno 2] No such file or directory: 'data/coral_condition/images\\\\ALK_0030_11_20230927_0019_0.jpg'\n",
      "Error checking ALK_0030_11_20230927_0026_0: [Errno 2] No such file or directory: 'data/coral_condition/images\\\\ALK_0030_11_20230927_0026_0.jpg'\n",
      "Error checking ALK_0030_11_20230927_0056_0: [Errno 2] No such file or directory: 'data/coral_condition/images\\\\ALK_0030_11_20230927_0056_0.jpg'\n",
      "Error checking HWB_0029_12_20230926_0009_0: [Errno 2] No such file or directory: 'data/coral_condition/images\\\\HWB_0029_12_20230926_0009_0.jpg'\n",
      "Error checking HWB_0029_12_20230926_0066_0: [Errno 2] No such file or directory: 'data/coral_condition/images\\\\HWB_0029_12_20230926_0066_0.jpg'\n",
      "Error checking SKI_0004_00_20230817_0082_0: [Errno 2] No such file or directory: 'data/coral_condition/images\\\\SKI_0004_00_20230817_0082_0.jpg'\n",
      "All images are (512, 512, 3)\n"
     ]
    }
   ],
   "source": [
    "# Verify no images exist with different dimensions\n",
    "inconsistent_dims = []\n",
    "\n",
    "# Get all unique patch IDs from annotations\n",
    "all_patch_ids = dataset.ANNOTATIONS_PATH['patchid'].unique()\n",
    "\n",
    "for patch_id in all_patch_ids:\n",
    "    try:\n",
    "        img = dataset.get_image(patch_id)\n",
    "        img_array = np.array(img)\n",
    "        if img_array.shape != (512, 512, 3):\n",
    "            inconsistent_dims.append((patch_id, img_array.shape))\n",
    "    except Exception as e:\n",
    "        print(f\"Error checking {patch_id}: {e}\")\n",
    "\n",
    "# Display results\n",
    "if not inconsistent_dims:\n",
    "    print(\"All images are (512, 512, 3)\")\n",
    "else:\n",
    "    print(f\"Found {len(inconsistent_dims)} images with different dimensions:\")\n",
    "    for patch_id, shape in inconsistent_dims[:5]:\n",
    "        print(f\"{patch_id}.jpg: {shape}\")"
   ]
  },
  {
   "cell_type": "markdown",
   "metadata": {},
   "source": [
    "We can confirm that all images have the same dimensions: 512 x 512 and have 3 color channels. This will make things simpler and means we don't have to worry about formatting sizes during the preprocessing phase.\n",
    "\n",
    "The errors thrown can be ignored as they are a result of the 11 images that have entries in the annotation file, but are missing from our dataset."
   ]
  },
  {
   "cell_type": "markdown",
   "metadata": {},
   "source": [
    "## 3. Tabular Data Properties\n",
    "Next, we will explore the tabular dataset (annotations CSV file)."
   ]
  },
  {
   "cell_type": "code",
   "execution_count": 19,
   "metadata": {},
   "outputs": [
    {
     "name": "stdout",
     "output_type": "stream",
     "text": [
      "Missing Patch IDs: 0\n",
      "Missing Labels: 0\n"
     ]
    }
   ],
   "source": [
    "# Check for any missing values\n",
    "print(\"Missing Patch IDs:\", annotations[\"patchid\"].isna().sum())\n",
    "print(\"Missing Labels:\", annotations[\"label\"].isna().sum())"
   ]
  },
  {
   "cell_type": "markdown",
   "metadata": {},
   "source": [
    "Since there are no missing values, this will not be an issue during pre-processing of the data.\n",
    "\n",
    "We can now check the label distribution to see how balanced the dataset is."
   ]
  },
  {
   "cell_type": "code",
   "execution_count": 22,
   "metadata": {},
   "outputs": [
    {
     "data": {
      "text/html": [
       "<div>\n",
       "<style scoped>\n",
       "    .dataframe tbody tr th:only-of-type {\n",
       "        vertical-align: middle;\n",
       "    }\n",
       "\n",
       "    .dataframe tbody tr th {\n",
       "        vertical-align: top;\n",
       "    }\n",
       "\n",
       "    .dataframe thead th {\n",
       "        text-align: right;\n",
       "    }\n",
       "</style>\n",
       "<table border=\"1\" class=\"dataframe\">\n",
       "  <thead>\n",
       "    <tr style=\"text-align: right;\">\n",
       "      <th></th>\n",
       "      <th>Count</th>\n",
       "      <th>Percentage</th>\n",
       "      <th>Num_Patches</th>\n",
       "    </tr>\n",
       "    <tr>\n",
       "      <th>label_list</th>\n",
       "      <th></th>\n",
       "      <th></th>\n",
       "      <th></th>\n",
       "    </tr>\n",
       "  </thead>\n",
       "  <tbody>\n",
       "    <tr>\n",
       "      <th>Healthy coral</th>\n",
       "      <td>17332</td>\n",
       "      <td>37.27</td>\n",
       "      <td>17332</td>\n",
       "    </tr>\n",
       "    <tr>\n",
       "      <th>Dead coral</th>\n",
       "      <td>9193</td>\n",
       "      <td>19.77</td>\n",
       "      <td>9193</td>\n",
       "    </tr>\n",
       "    <tr>\n",
       "      <th>Compromised coral</th>\n",
       "      <td>6916</td>\n",
       "      <td>14.87</td>\n",
       "      <td>6916</td>\n",
       "    </tr>\n",
       "    <tr>\n",
       "      <th>Competition</th>\n",
       "      <td>2949</td>\n",
       "      <td>6.34</td>\n",
       "      <td>2949</td>\n",
       "    </tr>\n",
       "    <tr>\n",
       "      <th>Disease</th>\n",
       "      <td>2902</td>\n",
       "      <td>6.24</td>\n",
       "      <td>2902</td>\n",
       "    </tr>\n",
       "    <tr>\n",
       "      <th>Physical issues</th>\n",
       "      <td>2874</td>\n",
       "      <td>6.18</td>\n",
       "      <td>2874</td>\n",
       "    </tr>\n",
       "    <tr>\n",
       "      <th>Rubble</th>\n",
       "      <td>2517</td>\n",
       "      <td>5.41</td>\n",
       "      <td>2517</td>\n",
       "    </tr>\n",
       "    <tr>\n",
       "      <th>Background</th>\n",
       "      <td>1092</td>\n",
       "      <td>2.35</td>\n",
       "      <td>1092</td>\n",
       "    </tr>\n",
       "    <tr>\n",
       "      <th>Predation</th>\n",
       "      <td>732</td>\n",
       "      <td>1.57</td>\n",
       "      <td>732</td>\n",
       "    </tr>\n",
       "  </tbody>\n",
       "</table>\n",
       "</div>"
      ],
      "text/plain": [
       "                   Count  Percentage  Num_Patches\n",
       "label_list                                       \n",
       "Healthy coral      17332       37.27        17332\n",
       "Dead coral          9193       19.77         9193\n",
       "Compromised coral   6916       14.87         6916\n",
       "Competition         2949        6.34         2949\n",
       "Disease             2902        6.24         2902\n",
       "Physical issues     2874        6.18         2874\n",
       "Rubble              2517        5.41         2517\n",
       "Background          1092        2.35         1092\n",
       "Predation            732        1.57          732"
      ]
     },
     "metadata": {},
     "output_type": "display_data"
    },
    {
     "name": "stdout",
     "output_type": "stream",
     "text": [
      "Total classes: 9\n",
      "Majority class: 'Healthy coral' with 17,332 entries\n",
      "Minority class: 'Predation' with 732 entries\n",
      "Classes covering 95% of entries: 6\n"
     ]
    },
    {
     "data": {
      "image/png": "[encoded data removed]",
      "text/plain": [
       "<Figure size 1600x800 with 1 Axes>"
      ]
     },
     "metadata": {},
     "output_type": "display_data"
    }
   ],
   "source": [
    "# Count each label occurrence (exploding multi-labels)\n",
    "exploded_labels = annotations.explode('label_list')\n",
    "label_dist = exploded_labels['label_list'].value_counts().sort_index()\n",
    "\n",
    "# Map label IDs to names\n",
    "label_names = labelset.set_index('label')['label_name']\n",
    "label_dist.index = label_dist.index.map(label_names)\n",
    "\n",
    "# Calculate percentages\n",
    "label_percent = (label_dist / len(exploded_labels) * 100).round(2)\n",
    "\n",
    "# Create summary dataframe\n",
    "label_stats = pd.DataFrame({\n",
    "    'Count': label_dist,\n",
    "    'Percentage': label_percent,\n",
    "    'Num_Patches': [sum(annotations['label_list'].apply(lambda x: label in x)) \n",
    "                   for label in label_names.index]\n",
    "}).sort_values('Count', ascending=False)\n",
    "\n",
    "display(label_stats)\n",
    "\n",
    "# Get class extremes\n",
    "majority_class = label_stats['Count'].idxmax()\n",
    "minority_class = label_stats['Count'].idxmin()\n",
    "\n",
    "print(f\"Total classes: {len(label_stats)}\")\n",
    "print(f\"Majority class: '{majority_class}' with {label_stats['Count'].max():,} entries\")\n",
    "print(f\"Minority class: '{minority_class}' with {label_stats['Count'].min()} entries\")\n",
    "print(f\"Classes covering 95% of entries: {label_stats[label_stats['Percentage'].cumsum() <= 95].shape[0]}\")\n",
    "\n",
    "# Plot configuration\n",
    "plt.figure(figsize=(16, 8))\n",
    "ax = sns.barplot(\n",
    "    x=label_stats.index,\n",
    "    y=label_stats['Count'],\n",
    "    hue=label_stats.index,\n",
    "    palette=\"viridis\",\n",
    "    legend=False\n",
    ")\n",
    "\n",
    "plt.title('Label Distribution', fontsize=14)\n",
    "plt.xlabel('Coral Condition', fontsize=12)\n",
    "plt.ylabel('Total Count', fontsize=12)\n",
    "plt.xticks(rotation=45, ha='right', fontsize=10)\n",
    "plt.grid(axis='y', linestyle='--', alpha=0.3)\n",
    "\n",
    "plt.show()\n"
   ]
  },
  {
   "cell_type": "markdown",
   "metadata": {},
   "source": [
    "The majority class: 'Healthy coral' makes up around 37% of all annotations, while the minority class: 'Predation' makes up around 1.6% of annotations. The top 6 classes are covering 95% of the data. There is an obvious class imbalance, but looks better than the previous dataset we explored.\n",
    "\n",
    "Another observation is that labels reflecting coral conditions (as opposed to stressors) collectively represent the majority of all classes. In comparison, stressors are underrespresented (about 20% combined)."
   ]
  },
  {
   "cell_type": "markdown",
   "metadata": {},
   "source": [
    "To further explore the dataset's label distribution, we can observe which classes appear together in multi-labeled image patches."
   ]
  },
  {
   "cell_type": "code",
   "execution_count": null,
   "metadata": {},
   "outputs": [],
   "source": []
  }
 ],
 "metadata": {
  "kernelspec": {
   "display_name": "venv",
   "language": "python",
   "name": "python3"
  },
  "language_info": {
   "codemirror_mode": {
    "name": "ipython",
    "version": 3
   },
   "file_extension": ".py",
   "mimetype": "text/x-python",
   "name": "python",
   "nbconvert_exporter": "python",
   "pygments_lexer": "ipython3",
   "version": "3.10.6"
  }
 },
 "nbformat": 4,
 "nbformat_minor": 2
}
