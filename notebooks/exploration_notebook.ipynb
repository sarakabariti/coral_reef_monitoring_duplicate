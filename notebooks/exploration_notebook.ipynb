{
 "cells": [
  {
   "cell_type": "markdown",
   "metadata": {},
   "source": [
    "# Coral Reef Dataset Exploration\n",
    "This notebook explores the coral reef dataset by jxwleong (https://www.kaggle.com/datasets/jxwleong/coral-reef-dataset) to evaluate its suitability for machine learning applications in marine conservation. \n",
    "\n",
    "This exploration aims to answer the following questions:\n",
    "* What file formats are used for the data?\n",
    "* How are annotations stored and what fields do they include?\n",
    "* Do all images have the same size dimensions?\n",
    "* What are the color channels?\n",
    "* What is the label distribution? \n",
    "* Is the dataset balanced? If not, how severe is the imbalance?\n",
    "* Are there ambiguous labels?\n",
    "* How many annotations exist per image?\n",
    "* What fraction of pixels are annotated vs. unannotated?\n",
    "* Are annotations dense (every pixel labeled) or sparse (only specific regions)?\n",
    "* Are there images with no annotations?\n",
    "* Is the dataset suitable for developing an AI system for coral monitoring?"
   ]
  },
  {
   "cell_type": "code",
   "execution_count": 19,
   "metadata": {},
   "outputs": [],
   "source": [
    "# Correct working directory.\n",
    "# This is necessary for imports because the notebook is not in the main folder of the project.\n",
    "if not \"working_directory_corrected\" in vars():\n",
    "    %cd ..\n",
    "    working_directory_corrected = True\n",
    "\n",
    "# Import dependencies\n",
    "import os\n",
    "import pandas as pd\n",
    "import numpy as np\n",
    "import matplotlib.pyplot as plt\n",
    "import seaborn as sns\n",
    "\n",
    "from data.dataset import CoralDataset"
   ]
  },
  {
   "cell_type": "markdown",
   "metadata": {},
   "source": [
    "## 1. Dataset Initialization and Basic Properties\n",
    "The dataset consists of two parts:\n",
    "1) A CSV file containing pixel-level labels for the images.\n",
    "2) A folder containing underwater images of coral reefs."
   ]
  },
  {
   "cell_type": "code",
   "execution_count": 20,
   "metadata": {},
   "outputs": [
    {
     "name": "stdout",
     "output_type": "stream",
     "text": [
      "Total images: 2455\n",
      "Total annotations: 418310\n",
      "Annotation columns: ['Name', 'Row', 'Column', 'Label', 'Unnamed: 4']\n"
     ]
    },
    {
     "data": {
      "text/html": [
       "<div>\n",
       "<style scoped>\n",
       "    .dataframe tbody tr th:only-of-type {\n",
       "        vertical-align: middle;\n",
       "    }\n",
       "\n",
       "    .dataframe tbody tr th {\n",
       "        vertical-align: top;\n",
       "    }\n",
       "\n",
       "    .dataframe thead th {\n",
       "        text-align: right;\n",
       "    }\n",
       "</style>\n",
       "<table border=\"1\" class=\"dataframe\">\n",
       "  <thead>\n",
       "    <tr style=\"text-align: right;\">\n",
       "      <th></th>\n",
       "      <th>Name</th>\n",
       "      <th>Row</th>\n",
       "      <th>Column</th>\n",
       "      <th>Label</th>\n",
       "      <th>Unnamed: 4</th>\n",
       "    </tr>\n",
       "  </thead>\n",
       "  <tbody>\n",
       "    <tr>\n",
       "      <th>0</th>\n",
       "      <td>i0201a.png</td>\n",
       "      <td>111</td>\n",
       "      <td>94</td>\n",
       "      <td>broken_coral_rubble</td>\n",
       "      <td>NaN</td>\n",
       "    </tr>\n",
       "    <tr>\n",
       "      <th>1</th>\n",
       "      <td>i0201a.png</td>\n",
       "      <td>173</td>\n",
       "      <td>243</td>\n",
       "      <td>broken_coral_rubble</td>\n",
       "      <td>NaN</td>\n",
       "    </tr>\n",
       "    <tr>\n",
       "      <th>2</th>\n",
       "      <td>i0201a.png</td>\n",
       "      <td>84</td>\n",
       "      <td>366</td>\n",
       "      <td>broken_coral_rubble</td>\n",
       "      <td>NaN</td>\n",
       "    </tr>\n",
       "    <tr>\n",
       "      <th>3</th>\n",
       "      <td>i0201a.png</td>\n",
       "      <td>54</td>\n",
       "      <td>802</td>\n",
       "      <td>broken_coral_rubble</td>\n",
       "      <td>NaN</td>\n",
       "    </tr>\n",
       "    <tr>\n",
       "      <th>4</th>\n",
       "      <td>i0201a.png</td>\n",
       "      <td>313</td>\n",
       "      <td>66</td>\n",
       "      <td>sand</td>\n",
       "      <td>NaN</td>\n",
       "    </tr>\n",
       "  </tbody>\n",
       "</table>\n",
       "</div>"
      ],
      "text/plain": [
       "         Name  Row  Column                Label  Unnamed: 4\n",
       "0  i0201a.png  111      94  broken_coral_rubble         NaN\n",
       "1  i0201a.png  173     243  broken_coral_rubble         NaN\n",
       "2  i0201a.png   84     366  broken_coral_rubble         NaN\n",
       "3  i0201a.png   54     802  broken_coral_rubble         NaN\n",
       "4  i0201a.png  313      66                 sand         NaN"
      ]
     },
     "execution_count": 20,
     "metadata": {},
     "output_type": "execute_result"
    }
   ],
   "source": [
    "# Initialize dataset\n",
    "dataset = CoralDataset()\n",
    "annotations = dataset.load_annotations()\n",
    "\n",
    "# Basic statistics\n",
    "print(f\"Total images: {annotations['Name'].nunique()}\")\n",
    "print(f\"Total annotations: {len(annotations)}\")\n",
    "print(f\"Annotation columns: {list(annotations.columns)}\")\n",
    "\n",
    "# Display sample of annotations\n",
    "annotations.head()"
   ]
  },
  {
   "cell_type": "markdown",
   "metadata": {},
   "source": [
    "There are 4505 in the images folder, while we have 2455 images recorded in the CSV file.\n",
    "\n",
    "The CSV file contains 418310 entries and records these features:\n",
    "- **Name**: Filename of the corresponding coral image.\n",
    "- **Row**: Vertical coordinate of the annotated pixel (0 = top of image).\n",
    "- **Column**: Horizontal coordinate of the annotated pixel (0 = left edge).\n",
    "- **Label**: Ecological classification of the coral at this location.\n",
    "- **Unnamed: 4**: An empty column that can be safely ignored.\n",
    "\n",
    "This structure suggests a sparse sampling strategy where ecologically significant points are labeled rather than full segmentation masks."
   ]
  },
  {
   "cell_type": "code",
   "execution_count": 21,
   "metadata": {},
   "outputs": [
    {
     "name": "stdout",
     "output_type": "stream",
     "text": [
      "Average annotations per image: 170.4\n"
     ]
    }
   ],
   "source": [
    "print(f\"Average annotations per image: {len(annotations)/annotations['Name'].nunique():.1f}\")"
   ]
  },
  {
   "cell_type": "markdown",
   "metadata": {},
   "source": [
    "Initial observations show: \n",
    "- There are images in the dataset that have not been annotated, and may need to be removed. \n",
    "- With 418,310 annotations across 2,455 images, we have approximately 170 annotated points per image on average.\n",
    "- The Row/Column values represent a discrete sampling approach rather than full segmentation masks.\n",
    "- Multiple classes are present within single images (as seen in the first five rows showing both 'broken_coral_rubble' and 'sand'). \n",
    "\n",
    "This point-based annotation strategy differs from more common bounding box approaches, and will probably influence the model selection stage later on."
   ]
  },
  {
   "cell_type": "markdown",
   "metadata": {},
   "source": [
    "## 2. Image Data Properties\n",
    "Before examining the label distribution, we should understand the properties of the image data. \n",
    "By manual inspection of the image data we can identify:\n",
    "* The images have different dimensions.\n",
    "* The images come in two formats: .png and .jpg.\n",
    "\n",
    "Having different dimensions and formats indicate some adjustments will be needed. \n",
    "An illustration is shown below:"
   ]
  },
  {
   "cell_type": "code",
   "execution_count": 22,
   "metadata": {},
   "outputs": [
    {
     "name": "stdout",
     "output_type": "stream",
     "text": [
      "mcr_lter5_out17m_pole1-2_qu7_20090410.jpg: (1984, 2035, 3)\n",
      "mcr_lter1_fringingreef_pole1-2_qu8_20100411.jpg: (1920, 1916, 3)\n",
      "mcr_lter3_out10m_pole3-4_qu2_20100407.jpg: (1836, 1740, 3)\n",
      "mcr_lter1_out10m_pole4-5_qu8_20090330.jpg: (1992, 2124, 3)\n",
      "mcr_lter1_fringingreef_pole2-3_qu2_20080415.jpg: (1948, 1948, 3)\n",
      "o0317b.png: (792, 976, 4)\n",
      "mcr_lter2_out17m_pole5-6_qu7_20100406.jpg: (1872, 1852, 3)\n",
      "mcr_lter2_fringingreef_pole4-5_qu3_20090402.jpg: (1983, 2107, 3)\n",
      "mcr_lter3_fringingreef_pole3-4_qu1_20080503.jpg: (1928, 1912, 3)\n",
      "mcr_lter3_out17m_pole1-2_qu7_20090406.jpg: (1918, 1849, 3)\n"
     ]
    }
   ],
   "source": [
    "# Get unique image names from annotations\n",
    "sampled_images = annotations['Name'].sample(n=10, random_state=42)\n",
    "# Print image properties\n",
    "for img_name in sampled_images:\n",
    "    try: \n",
    "        img = dataset.get_image(img_name)\n",
    "        img_data = np.array(object=img)\n",
    "        print(f\"{img_name}:\", img_data.shape)\n",
    "    except Exception as err:\n",
    "        print(f\"Error processing {img_name}: {err}\")"
   ]
  },
  {
   "cell_type": "markdown",
   "metadata": {},
   "source": [
    "We can confirm the images have different dimensions and formats (one image in the sample has a .png extension). In addition, the png image has four color channels as opposed to the three channels in the jpg images. "
   ]
  },
  {
   "cell_type": "markdown",
   "metadata": {},
   "source": [
    "## 3. Tabular Data Properties\n",
    "Next, we will explore the tabular dataset (CSV file)."
   ]
  },
  {
   "cell_type": "code",
   "execution_count": 23,
   "metadata": {},
   "outputs": [
    {
     "name": "stdout",
     "output_type": "stream",
     "text": [
      "Missing Names: 0\n",
      "Missing Rows: 0\n",
      "Missing Columns: 0\n",
      "Missing Labels: 0\n",
      "Non-null values in Unnamed: 4: 0\n"
     ]
    }
   ],
   "source": [
    "# Check for any missing values\n",
    "print(\"Missing Names:\", annotations[\"Name\"].isna().sum())\n",
    "print(\"Missing Rows:\", annotations[\"Row\"].isna().sum())\n",
    "print(\"Missing Columns:\", annotations[\"Column\"].isna().sum())\n",
    "print(\"Missing Labels:\", annotations[\"Label\"].isna().sum())\n",
    "\n",
    "# Check if the 'Unnamed: 4' column contains anything\n",
    "print(\"Non-null values in Unnamed: 4:\", annotations[\"Unnamed: 4\"].notna().sum())"
   ]
  },
  {
   "cell_type": "markdown",
   "metadata": {},
   "source": [
    "Since there are no missing values, this will not be an issue during data processing. The Unnamed: 4 column can also be safely removed to clean up the data. "
   ]
  },
  {
   "cell_type": "markdown",
   "metadata": {},
   "source": [
    "We can now check the label distribution to see how balanced the dataset is."
   ]
  },
  {
   "cell_type": "code",
   "execution_count": null,
   "metadata": {},
   "outputs": [
    {
     "name": "stdout",
     "output_type": "stream",
     "text": [
      "Label distribution statistics:\n",
      "                           Count  Percentage\n",
      "Label                                       \n",
      "crustose_coralline_algae  226017       54.03\n",
      "turf                       43769       10.46\n",
      "sand                       38880        9.29\n",
      "porites                    35236        8.42\n",
      "macroalgae                 23832        5.70\n",
      "off                        13605        3.25\n",
      "pocillopora                11319        2.71\n",
      "montipora                   8755        2.09\n",
      "pavona                      5806        1.39\n",
      "acropora                    3458        0.83\n",
      "hard_substrate              2086        0.50\n",
      "millepora                   1459        0.35\n",
      "broken_coral_rubble         1025        0.25\n",
      "montastraea                  645        0.15\n",
      "leptastrea                   528        0.13\n",
      "soft                         280        0.07\n",
      "bad                          259        0.06\n",
      "goniastrea                   198        0.05\n",
      "dark                         191        0.05\n",
      "fungia                       160        0.04\n",
      "algae                        142        0.03\n",
      "astreopora                   129        0.03\n",
      "gardineroseris               123        0.03\n",
      "herpolitha                    81        0.02\n",
      "dead_coral                    52        0.01\n",
      "lobophyllia                   47        0.01\n",
      "favia                         47        0.01\n",
      "soft_coral                    38        0.01\n",
      "platygyra                     26        0.01\n",
      "echinopora                    24        0.01\n",
      "rock                          24        0.01\n",
      "cyphastrea                    18        0.00\n",
      "acanthastrea                  16        0.00\n",
      "green_fleshy_algae             8        0.00\n",
      "psammocora                     7        0.00\n",
      "stylophora                     7        0.00\n",
      "favites                        6        0.00\n",
      "leptoseris                     4        0.00\n",
      "sandolitha                     2        0.00\n",
      "tuba                           1        0.00\n",
      "Total classes: 40\n",
      "Majority class: 'crustose_coralline_algae' with 226,017 annotations\n",
      "Minority class: 'tuba' with 1 annotation\n",
      "Annotations covering 95% of data: 7 classes\n"
     ]
    },
    {
     "data": {
      "image/png": "[encoded data removed]",
      "text/plain": [
       "<Figure size 1400x600 with 1 Axes>"
      ]
     },
     "metadata": {},
     "output_type": "display_data"
    }
   ],
   "source": [
    "# Calculate label distribution\n",
    "label_dist = annotations['Label'].value_counts()\n",
    "total_annotations = len(annotations)\n",
    "\n",
    "# Convert to percentages\n",
    "label_percent = (label_dist / total_annotations * 100).round(2)\n",
    "\n",
    "# Combine into summary dataframe\n",
    "label_stats = pd.DataFrame({\n",
    "    'Count': label_dist,\n",
    "    'Percentage': label_percent\n",
    "})\n",
    "\n",
    "print(\"Label distribution statistics:\")\n",
    "print(label_stats)\n",
    "\n",
    "# Get class extremes\n",
    "majority_class = label_dist.idxmax()\n",
    "minority_class = label_dist.idxmin()\n",
    "num_classes = len(label_dist)\n",
    "\n",
    "print(f\"Total classes: {num_classes}\")\n",
    "print(f\"Majority class: '{majority_class}' with {label_dist.max():,} annotations\")\n",
    "print(f\"Minority class: '{minority_class}' with {label_dist.min()} annotation\")\n",
    "print(f\"Annotations covering 95% of data: {label_stats[label_stats['Percentage'].cumsum() <= 95].shape[0]} classes\")\n",
    "\n",
    "# Plot configuration\n",
    "plt.figure(figsize=(14, 6))\n",
    "ax = sns.barplot(x=label_dist.index, y=label_dist.values)\n",
    "\n",
    "# Formatting\n",
    "plt.title('Coral Reef Annotation Class Distribution', pad=20, fontsize=14)\n",
    "plt.xlabel('Ecological Class', fontsize=12)\n",
    "plt.ylabel('Annotation Count', fontsize=12)\n",
    "plt.xticks(rotation=90, fontsize=9)\n",
    "plt.yticks(fontsize=10)\n",
    "\n",
    "# Add grid\n",
    "plt.grid(axis='y', linestyle='--', alpha=0.4)\n",
    "plt.show()\n"
   ]
  },
  {
   "cell_type": "markdown",
   "metadata": {},
   "source": [
    "The dataset contains annotations of 40 distinct ecological classes, ranging from coral species to abiotic classes (e.g. \"sand\" and \"rock\"). The diversity can be an opportunity for reporting on coral health using various indicators, but the extreme class imbalance presents a major challenge. The majority class: 'crustose_coralline_algae' makes up 54% of all annotations, while the minority class: 'tuba' only has 1 annotation. The top 7 classes are covering 95% of the data. In addition, some classes seem ambiguous (e.g.'off') and need to be inspected further to identify what they represent. \n",
    "Some actions could be taken to tackle this issue: \n",
    "* Class grouping strategies: \n",
    "    * We can merge rare coral species into higher taxa or merge all coral species into 'healthy_coral'.\n",
    "    * We can merge \"sand\", \"rock\", \"hard_substrate\" into 'abiotic_class'.\n",
    "* Add another dataset to use with this one (e.g. https://coralnet.ucsd.edu/source/5546/browse/images/).\n",
    "* Transfer learning: \n",
    "* Hierarchical modeling: \n",
    "\n"
   ]
  },
  {
   "cell_type": "markdown",
   "metadata": {},
   "source": []
  }
 ],
 "metadata": {
  "kernelspec": {
   "display_name": "venv",
   "language": "python",
   "name": "python3"
  },
  "language_info": {
   "codemirror_mode": {
    "name": "ipython",
    "version": 3
   },
   "file_extension": ".py",
   "mimetype": "text/x-python",
   "name": "python",
   "nbconvert_exporter": "python",
   "pygments_lexer": "ipython3",
   "version": "3.10.6"
  }
 },
 "nbformat": 4,
 "nbformat_minor": 2
}
