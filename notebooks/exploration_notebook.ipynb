{
 "cells": [
  {
   "cell_type": "markdown",
   "metadata": {},
   "source": [
    "# Coral Reef Dataset Exploration\n",
    "This notebook explores the coral reef dataset by jxwleong (https://www.kaggle.com/datasets/jxwleong/coral-reef-dataset) to evaluate its suitability for machine learning applications in marine conservation. \n",
    "\n",
    "This exploration aims to answer the following questions:\n",
    "* What file formats are used for the data?\n",
    "* How are annotations stored and what fields do they include?\n",
    "* Do all images have the same size dimensions?\n",
    "* What are the color channels (RGB, grayscale, etc..)?\n",
    "* What is the label distribution? \n",
    "* Is the dataset balanced? If not, how severe is the imbalance?\n",
    "* Are there ambiguous labels?\n",
    "* How many annotations exist per image?\n",
    "* What fraction of pixels are annotated vs. unannotated?\n",
    "* Are annotations dense (every pixel labeled) or sparse (only specific regions)?\n",
    "* Are there images with no annotations?\n",
    "* Is the dataset suitable for developing an AI system for coral monitoring?"
   ]
  },
  {
   "cell_type": "code",
   "execution_count": null,
   "metadata": {},
   "outputs": [],
   "source": [
    "# Correct working directory.\n",
    "# This is necessary for imports because the notebook is not in the main folder of the project.\n",
    "if not \"working_directory_corrected\" in vars():\n",
    "    %cd ..\n",
    "    working_directory_corrected = True\n",
    "\n",
    "# Import dependencies\n",
    "\n",
    "from data.dataset import CoralDataset"
   ]
  },
  {
   "cell_type": "markdown",
   "metadata": {},
   "source": [
    "## 1. Dataset Initialization and Basic Properties\n",
    "The dataset consists of two parts:\n",
    "1) A CSV file containing pixel-level labels for the images.\n",
    "2) A folder containing underwater images of coral reefs."
   ]
  },
  {
   "cell_type": "code",
   "execution_count": 15,
   "metadata": {},
   "outputs": [
    {
     "name": "stdout",
     "output_type": "stream",
     "text": [
      "Total images: 2455\n",
      "Total annotations: 418310\n",
      "Annotation columns: ['Name', 'Row', 'Column', 'Label', 'Unnamed: 4']\n"
     ]
    },
    {
     "data": {
      "text/html": [
       "<div>\n",
       "<style scoped>\n",
       "    .dataframe tbody tr th:only-of-type {\n",
       "        vertical-align: middle;\n",
       "    }\n",
       "\n",
       "    .dataframe tbody tr th {\n",
       "        vertical-align: top;\n",
       "    }\n",
       "\n",
       "    .dataframe thead th {\n",
       "        text-align: right;\n",
       "    }\n",
       "</style>\n",
       "<table border=\"1\" class=\"dataframe\">\n",
       "  <thead>\n",
       "    <tr style=\"text-align: right;\">\n",
       "      <th></th>\n",
       "      <th>Name</th>\n",
       "      <th>Row</th>\n",
       "      <th>Column</th>\n",
       "      <th>Label</th>\n",
       "      <th>Unnamed: 4</th>\n",
       "    </tr>\n",
       "  </thead>\n",
       "  <tbody>\n",
       "    <tr>\n",
       "      <th>0</th>\n",
       "      <td>i0201a.png</td>\n",
       "      <td>111</td>\n",
       "      <td>94</td>\n",
       "      <td>broken_coral_rubble</td>\n",
       "      <td>NaN</td>\n",
       "    </tr>\n",
       "    <tr>\n",
       "      <th>1</th>\n",
       "      <td>i0201a.png</td>\n",
       "      <td>173</td>\n",
       "      <td>243</td>\n",
       "      <td>broken_coral_rubble</td>\n",
       "      <td>NaN</td>\n",
       "    </tr>\n",
       "    <tr>\n",
       "      <th>2</th>\n",
       "      <td>i0201a.png</td>\n",
       "      <td>84</td>\n",
       "      <td>366</td>\n",
       "      <td>broken_coral_rubble</td>\n",
       "      <td>NaN</td>\n",
       "    </tr>\n",
       "    <tr>\n",
       "      <th>3</th>\n",
       "      <td>i0201a.png</td>\n",
       "      <td>54</td>\n",
       "      <td>802</td>\n",
       "      <td>broken_coral_rubble</td>\n",
       "      <td>NaN</td>\n",
       "    </tr>\n",
       "    <tr>\n",
       "      <th>4</th>\n",
       "      <td>i0201a.png</td>\n",
       "      <td>313</td>\n",
       "      <td>66</td>\n",
       "      <td>sand</td>\n",
       "      <td>NaN</td>\n",
       "    </tr>\n",
       "  </tbody>\n",
       "</table>\n",
       "</div>"
      ],
      "text/plain": [
       "         Name  Row  Column                Label  Unnamed: 4\n",
       "0  i0201a.png  111      94  broken_coral_rubble         NaN\n",
       "1  i0201a.png  173     243  broken_coral_rubble         NaN\n",
       "2  i0201a.png   84     366  broken_coral_rubble         NaN\n",
       "3  i0201a.png   54     802  broken_coral_rubble         NaN\n",
       "4  i0201a.png  313      66                 sand         NaN"
      ]
     },
     "execution_count": 15,
     "metadata": {},
     "output_type": "execute_result"
    }
   ],
   "source": [
    "# Initialize dataset\n",
    "dataset = CoralDataset()\n",
    "annotations = dataset.load_annotations()\n",
    "\n",
    "# Basic statistics\n",
    "print(f\"Total images: {annotations['Name'].nunique()}\")\n",
    "print(f\"Total annotations: {len(annotations)}\")\n",
    "print(f\"Annotation columns: {list(annotations.columns)}\")\n",
    "\n",
    "# Display sample of annotations\n",
    "annotations.head()"
   ]
  },
  {
   "cell_type": "markdown",
   "metadata": {},
   "source": [
    "There are 4505 in the images folder, while we have 2455 images recorded in the CSV file.\n",
    "\n",
    "The CSV file contains 418310 entries and records these features:\n",
    "- **Name**: Filename of the corresponding coral image.\n",
    "- **Row**: Vertical coordinate of the annotated pixel (0 = top of image).\n",
    "- **Column**: Horizontal coordinate of the annotated pixel (0 = left edge).\n",
    "- **Label**: Ecological classification of the coral at this location.\n",
    "- **Unnamed: 4**: An empty column that can be safely ignored.\n",
    "\n",
    "This structure suggests a sparse sampling strategy where ecologically significant points are labeled rather than full segmentation masks."
   ]
  },
  {
   "cell_type": "code",
   "execution_count": 16,
   "metadata": {},
   "outputs": [
    {
     "name": "stdout",
     "output_type": "stream",
     "text": [
      "Average annotations per image: 170.4\n"
     ]
    }
   ],
   "source": [
    "print(f\"Average annotations per image: {len(annotations)/annotations['Name'].nunique():.1f}\")"
   ]
  },
  {
   "cell_type": "markdown",
   "metadata": {},
   "source": [
    "Initial observations show: \n",
    "- There are images in the dataset that have not been annotated, and may need to be removed. \n",
    "- With 418,310 annotations across 2,455 images, we have approximately 170 annotated points per image on average.\n",
    "- The Row/Column values represent a discrete sampling approach rather than full segmentation masks.\n",
    "- Multiple classes are present within single images (as seen in the first five rows showing both 'broken_coral_rubble' and 'sand'). \n",
    "\n",
    "This point-based annotation strategy differs from more common bounding box approaches, and will probably influence the model selection stage later on."
   ]
  },
  {
   "cell_type": "markdown",
   "metadata": {},
   "source": [
    "## 2. Image Data Properties\n",
    "Before examining the label distribution, we should understand the properties of the image data. \n",
    "By manual inspection of the image data we can identify:\n",
    "* The images have different dimensions.\n",
    "* The images come in two formats: .png and .jpg.\n",
    "\n",
    "Having different dimensions and formats indicate some adjustments will be needed. \n",
    "An illustration is shown below:"
   ]
  }
 ],
 "metadata": {
  "kernelspec": {
   "display_name": "venv",
   "language": "python",
   "name": "python3"
  },
  "language_info": {
   "codemirror_mode": {
    "name": "ipython",
    "version": 3
   },
   "file_extension": ".py",
   "mimetype": "text/x-python",
   "name": "python",
   "nbconvert_exporter": "python",
   "pygments_lexer": "ipython3",
   "version": "3.10.6"
  }
 },
 "nbformat": 4,
 "nbformat_minor": 2
}
